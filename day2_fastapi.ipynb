{
 "cells": [
  {
   "cell_type": "code",
   "execution_count": null,
   "id": "772055b3",
   "metadata": {},
   "outputs": [],
   "source": [
    "!git clone https://github.com/fibonacci0112358/simplechat.git"
   ]
  },
  {
   "cell_type": "code",
   "execution_count": null,
   "id": "4a7afe8d",
   "metadata": {},
   "outputs": [],
   "source": [
    "!pip install python-dotenv\n",
    "from dotenv import load_dotenv, find_dotenv\n",
    "\n",
    "# huggingface_tokenとngrokのトークンを取得 .envに配置\n",
    "%cd /content/simplechat\n",
    "load_dotenv(find_dotenv())"
   ]
  },
  {
   "cell_type": "code",
   "execution_count": null,
   "id": "503e131b",
   "metadata": {},
   "outputs": [],
   "source": [
    "%cd /content/simplechat/FastAPI\n",
    "!pip install -r requirements.txt"
   ]
  },
  {
   "cell_type": "code",
   "execution_count": null,
   "id": "55a0d781",
   "metadata": {},
   "outputs": [],
   "source": [
    "!ngrok authtoken $$NGROK_TOKEN\n",
    "!huggingface-cli login --token $$HUGGINGFACE_TOKEN"
   ]
  },
  {
   "cell_type": "code",
   "execution_count": null,
   "id": "d9cdc0bb",
   "metadata": {},
   "outputs": [],
   "source": [
    "!python app.py"
   ]
  },
  {
   "cell_type": "code",
   "execution_count": null,
   "id": "0f69f780",
   "metadata": {},
   "outputs": [],
   "source": [
    "from pyngrok import ngrok\n",
    "ngrok.kill()"
   ]
  }
 ],
 "metadata": {
  "kernelspec": {
   "display_name": "Python 3",
   "language": "python",
   "name": "python3"
  },
  "language_info": {
   "name": "python",
   "version": "3.12.2"
  }
 },
 "nbformat": 4,
 "nbformat_minor": 5
}
